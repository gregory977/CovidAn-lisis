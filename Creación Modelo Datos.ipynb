{
    "metadata": {
        "kernelspec": {
            "name": "SQL",
            "display_name": "SQL",
            "language": "sql"
        },
        "language_info": {
            "name": "sql",
            "version": ""
        }
    },
    "nbformat_minor": 2,
    "nbformat": 4,
    "cells": [
        {
            "cell_type": "code",
            "source": [
                "-- Creción de modelo de datos: Evolución del Covid en Boyacá y Cundinamarca\r\n",
                "--Por Gregory Ahumada\r\n",
                "\r\n",
                "--Crear base\r\n",
                "CREATE DATABASE Databasecovid;\r\n",
                "GO\r\n",
                "\r\n",
                "USE Databasecovid;\r\n",
                "GO\r\n",
                "\r\n",
                "--Crear tablas \r\n",
                "\r\n",
                "CREATE TABLE department (\r\n",
                "  id_department INT PRIMARY KEY,\r\n",
                "  name VARCHAR(45) NOT NULL\r\n",
                ");\r\n",
                "GO\r\n",
                "\r\n",
                "CREATE TABLE status (\r\n",
                "  id_status INT PRIMARY KEY,\r\n",
                "  name VARCHAR(45) NOT NULL\r\n",
                ");\r\n",
                "GO\r\n",
                "\r\n",
                "CREATE TABLE type_contagion (\r\n",
                "  id_type_contagion INT PRIMARY KEY,\r\n",
                "  name VARCHAR(45) NOT NULL\r\n",
                ");\r\n",
                "GO\r\n",
                "\r\n",
                "CREATE TABLE gender (\r\n",
                "  id_gender INT PRIMARY KEY,\r\n",
                "  name VARCHAR(45) NOT NULL\r\n",
                ");\r\n",
                "GO\r\n",
                "\r\n",
                "CREATE TABLE municipality (\r\n",
                "  id_municipality INT PRIMARY KEY,\r\n",
                "  name VARCHAR(200) NOT NULL,\r\n",
                "  id_department INT REFERENCES department(id_department)\r\n",
                ");\r\n",
                "GO\r\n",
                "\r\n",
                "CREATE TABLE cases (\r\n",
                "  id_case INT PRIMARY KEY,\r\n",
                "  id_municipality INT REFERENCES municipality(id_municipality),\r\n",
                "  age INT,\r\n",
                "  id_gender INT REFERENCES gender(id_gender),\r\n",
                "  id_type_contagion INT REFERENCES type_contagion(id_type_contagion),\r\n",
                "  id_status INT REFERENCES status(id_status),\r\n",
                "  date_symptom DATETIME,\r\n",
                "  date_death DATETIME,\r\n",
                "  date_diagnosis DATETIME,\r\n",
                "  date_recovery DATETIME\r\n",
                ");\r\n",
                "GO\r\n",
                ""
            ],
            "metadata": {
                "azdata_cell_guid": "89dbac3c-8f57-489e-864e-93ec21aa40ea",
                "language": "sql"
            },
            "outputs": [],
            "execution_count": null
        }
    ]
}
